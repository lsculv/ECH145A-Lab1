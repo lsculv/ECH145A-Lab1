{
 "cells": [
  {
   "cell_type": "code",
   "execution_count": 20,
   "metadata": {},
   "outputs": [],
   "source": [
    "import numpy as np\n",
    "import matplotlib.pyplot as plt"
   ]
  },
  {
   "cell_type": "code",
   "execution_count": 23,
   "metadata": {},
   "outputs": [
    {
     "data": {
      "image/png": "[encoded data removed]",
      "text/plain": [
       "<Figure size 640x480 with 1 Axes>"
      ]
     },
     "metadata": {},
     "output_type": "display_data"
    },
    {
     "name": "stdout",
     "output_type": "stream",
     "text": [
      "0.0038282042820966264\n"
     ]
    }
   ],
   "source": [
    "# Data paths\n",
    "cm1 = [\n",
    "    \"./Data/calibration mass 1/trial1.csv\",\n",
    "    \"./Data/calibration mass 1/trial2.csv\",\n",
    "    \"./Data/calibration mass 1/trial3.csv\",\n",
    "]\n",
    "cm2 = [\n",
    "    \"./Data/calibration mass 2/trial1.csv\",\n",
    "    \"./Data/calibration mass 2/trial2.csv\",\n",
    "    \"./Data/calibration mass 2/trial3.csv\",\n",
    "]\n",
    "cm3 = [\n",
    "    \"./Data/calibration mass 3/trial1.csv\",\n",
    "    \"./Data/calibration mass 3/trial2.csv\",\n",
    "    \"./Data/calibration mass 3/trial3.csv\",\n",
    "]\n",
    "cm4 = [\n",
    "    \"./Data/calibration mass 4/trial1.csv\",\n",
    "    \"./Data/calibration mass 4/trial2.csv\",\n",
    "    \"./Data/calibration mass 4/trial3.csv\",\n",
    "]\n",
    "cm5 = [\n",
    "    \"./Data/calibration mass 5/trial1.csv\",\n",
    "    \"./Data/calibration mass 5/trial2.csv\",\n",
    "    \"./Data/calibration mass 5/trial3.csv\",\n",
    "]\n",
    "\n",
    "# Load data\n",
    "data = [\n",
    "    cm1t1 := np.loadtxt(cm1[0], delimiter=\",\", skiprows=7, usecols=[2]),\n",
    "    cm1t2 := np.loadtxt(cm1[1], delimiter=\",\", skiprows=7, usecols=[2]),\n",
    "    cm1t3 := np.loadtxt(cm1[2], delimiter=\",\", skiprows=7, usecols=[2]),\n",
    "    cm2t1 := np.loadtxt(cm2[0], delimiter=\",\", skiprows=7, usecols=[2]),\n",
    "    cm2t2 := np.loadtxt(cm2[1], delimiter=\",\", skiprows=7, usecols=[2]),\n",
    "    cm2t3 := np.loadtxt(cm2[2], delimiter=\",\", skiprows=7, usecols=[2]),\n",
    "    cm3t1 := np.loadtxt(cm3[0], delimiter=\",\", skiprows=7, usecols=[2]),\n",
    "    cm3t2 := np.loadtxt(cm3[1], delimiter=\",\", skiprows=7, usecols=[2]),\n",
    "    cm3t3 := np.loadtxt(cm3[2], delimiter=\",\", skiprows=7, usecols=[2]),\n",
    "    cm4t1 := np.loadtxt(cm4[0], delimiter=\",\", skiprows=7, usecols=[2]),\n",
    "    cm4t2 := np.loadtxt(cm4[1], delimiter=\",\", skiprows=7, usecols=[2]),\n",
    "    cm4t3 := np.loadtxt(cm4[2], delimiter=\",\", skiprows=7, usecols=[2]),\n",
    "    cm5t1 := np.loadtxt(cm5[0], delimiter=\",\", skiprows=7, usecols=[2]),\n",
    "    cm5t2 := np.loadtxt(cm5[1], delimiter=\",\", skiprows=7, usecols=[2]),\n",
    "    cm5t3 := np.loadtxt(cm5[2], delimiter=\",\", skiprows=7, usecols=[2]),\n",
    "]\n",
    "\n",
    "\n",
    "control_masses = [\n",
    "    73.372,\n",
    "    82.953,\n",
    "    84.155,\n",
    "    73.089,\n",
    "    78.739,\n",
    "]\n",
    "\n",
    "masses = [\n",
    "    73.372,\n",
    "    73.372,\n",
    "    73.372,\n",
    "    73.372 + 82.953,\n",
    "    73.372 + 82.953,\n",
    "    73.372 + 82.953,\n",
    "    73.372 + 82.953 + 84.155,\n",
    "    73.372 + 82.953 + 84.155,\n",
    "    73.372 + 82.953 + 84.155,\n",
    "    73.372 + 82.953 + 84.155 + 73.089,\n",
    "    73.372 + 82.953 + 84.155 + 73.089,\n",
    "    73.372 + 82.953 + 84.155 + 73.089,\n",
    "    73.372 + 82.953 + 84.155 + 73.089 + 78.739,\n",
    "    73.372 + 82.953 + 84.155 + 73.089 + 78.739,\n",
    "    73.372 + 82.953 + 84.155 + 73.089 + 78.739,\n",
    "]\n",
    "\n",
    "\n",
    "\n",
    "points = [data[i][2300:].mean() for i in range(len(data))]\n",
    "errors = [(data[i][2300:].std() * 2) for i in range(len(data))]\n",
    "\n",
    "(slope, intercept) = np.polyfit(masses, points, 1)\n",
    "mass = np.linspace(70, 400, 1000)\n",
    "curve_fit = slope * mass + intercept\n",
    "\n",
    "plt.errorbar(masses, points, errors, fmt=\".r\")\n",
    "plt.plot(mass, curve_fit, \"--b\")\n",
    "plt.show()\n",
    "\n",
    "print(slope)\n"
   ]
  },
  {
   "cell_type": "code",
   "execution_count": null,
   "metadata": {},
   "outputs": [],
   "source": []
  }
 ],
 "metadata": {
  "kernelspec": {
   "display_name": "py10",
   "language": "python",
   "name": "python3"
  },
  "language_info": {
   "codemirror_mode": {
    "name": "ipython",
    "version": 3
   },
   "file_extension": ".py",
   "mimetype": "text/x-python",
   "name": "python",
   "nbconvert_exporter": "python",
   "pygments_lexer": "ipython3",
   "version": "3.10.6"
  },
  "orig_nbformat": 4,
  "vscode": {
   "interpreter": {
    "hash": "19507501e6074859d39067d05698418baa9641c9ca2196c887457aaa6924805b"
   }
  }
 },
 "nbformat": 4,
 "nbformat_minor": 2
}
