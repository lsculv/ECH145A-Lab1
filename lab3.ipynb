{
 "cells": [
  {
   "cell_type": "code",
   "execution_count": 1,
   "metadata": {},
   "outputs": [],
   "source": [
    "from dataclasses import dataclass\n",
    "import numpy as np\n",
    "from numpy import ndarray, float64\n",
    "import matplotlib.pyplot as plt\n",
    "import pandas\n",
    "import scipy\n"
   ]
  },
  {
   "cell_type": "code",
   "execution_count": null,
   "metadata": {},
   "outputs": [],
   "source": [
    "TABLE1 = np.loadtxt(\"Data/TTB_Table_1_digitized-2.csv\", delimiter=\",\")\n",
    "TABLE6 = np.loadtxt(\"./Data/TTB_Table_6_digitized.csv\", delimiter=\",\", skiprows=10, usecols=[0,1,2,3,4])"
   ]
  },
  {
   "cell_type": "code",
   "execution_count": 2,
   "metadata": {},
   "outputs": [],
   "source": [
    "@dataclass\n",
    "class EthanolMeasurement:\n",
    "    concentration: float64  # %ethanol by mass\n",
    "    density: ndarray  # g/cm^3\n",
    "    dtemp: ndarray  # Celsius\n",
    "    pmass: ndarray  # grams\n",
    "    ptemp: ndarray  # Celsius\n",
    "\n",
    "\n",
    "# Data for measurments of various concentrations of ethanol\n",
    "ethanol00 = EthanolMeasurement(\n",
    "    concentration=float64(0.0),\n",
    "    density=np.array([0.9925, 0.9925, 0.9925]),\n",
    "    dtemp=np.array([23.4, 23.4, 23.4]),\n",
    "    pmass=np.array([60.346, 60.347, 60.345]),\n",
    "    ptemp=np.array([24.0, 24.0, 24.0]),\n",
    ")\n",
    "\n",
    "ethanol10 = EthanolMeasurement(\n",
    "    concentration=float64(5.003 / 50.2),\n",
    "    density=np.array([0.9757, 0.9799, 0.9801]),\n",
    "    dtemp=np.array([25.7, 25.5, 25.5]),\n",
    "    pmass=np.array([60.346, 60.347, 60.345]),\n",
    "    ptemp=np.array([25.2, 25.2, 25.4]),\n",
    ")\n",
    "\n",
    "ethanol20 = EthanolMeasurement(\n",
    "    concentration=float64(10.0 / 50.055),\n",
    "    density=np.array([0.9627, 0.9652, 0.9657]),\n",
    "    dtemp=np.array([26.9, 26.8, 26.9]),\n",
    "    pmass=np.array([59.99, 59.987, 59.985]),\n",
    "    ptemp=np.array([25.8, 25.6, 25.8]),\n",
    ")\n",
    "\n",
    "ethanol30 = EthanolMeasurement(\n",
    "    concentration=float64(15.0 / 50.285),\n",
    "    density=np.array([0.9462, 0.9480, 0.9481]),\n",
    "    dtemp=np.array([27.3, 27.4, 27.4]),\n",
    "    pmass=np.array([59.609, 59.607, 59.604]),\n",
    "    ptemp=np.array([25.4, 25.4, 25.2]),\n",
    ")\n",
    "\n",
    "ethanol40 = EthanolMeasurement(\n",
    "    concentration=float64(20.056 / 50.155),\n",
    "    density=np.array([0.9269, 0.9303, 0.9315]),\n",
    "    dtemp=np.array([24.8, 24.9, 24.9]),\n",
    "    pmass=np.array([59.360, 59.031, 59.029]),\n",
    "    ptemp=np.array([25.0, 25.0, 25.0]),\n",
    ")\n",
    "\n",
    "ethanol50 = EthanolMeasurement(\n",
    "    concentration=float64(25.026 / 50.006),\n",
    "    density=np.array([0.9085, 0.9078, 0.9081]),\n",
    "    dtemp=np.array([25.4, 26.0, 26.1]),\n",
    "    pmass=np.array([58.520, 58.520, 58.519]),\n",
    "    ptemp=np.array([25.4, 25.6, 25.4]),\n",
    ")\n",
    "\n",
    "ethanol60 = EthanolMeasurement(\n",
    "    concentration=float64(30.028 / 50.175),\n",
    "    density=np.array([0.8874, 0.8867, 0.8865]),\n",
    "    dtemp=np.array([25.2, 25.4, 25.5]),\n",
    "    pmass=np.array([57.958, 57.948, 57.944]),\n",
    "    ptemp=np.array([24.0, 24.2, 24.3]),\n",
    ")\n",
    "\n",
    "ethanol80 = EthanolMeasurement(\n",
    "    concentration=float64(40.148 / 49.953),\n",
    "    density=np.array([0.8557, 0.8457, 0.8445]),\n",
    "    dtemp=np.array([24.0, 24.3, 24.3]),\n",
    "    pmass=np.array([58.612, 58.613, 58.606]),\n",
    "    ptemp=np.array([21.5, 22.0, 22.2]),\n",
    ")\n",
    "\n",
    "ethanol90 = EthanolMeasurement(\n",
    "    concentration=float64(45.076 / 50.101),\n",
    "    density=np.array([0.8156, 0.8153, 0.8152]),\n",
    "    dtemp=np.array([23.9, 23.9, 24.0]),\n",
    "    pmass=np.array([57.737, 57.737, 57.739]),\n",
    "    ptemp=np.array([23.4, 23.4, 23.4]),\n",
    ")\n",
    "\n",
    "ethanol_measurments = [\n",
    "    ethanol00,\n",
    "    ethanol10,\n",
    "    ethanol20,\n",
    "    ethanol30,\n",
    "    ethanol40,\n",
    "    ethanol50,\n",
    "    ethanol60,\n",
    "    ethanol80,\n",
    "    ethanol90,\n",
    "]\n",
    "\n",
    "\n",
    "@dataclass\n",
    "class PycnometerMeasurment:\n",
    "    mass: float64 # in grams\n",
    "    volume: float64 # in cm^3\n",
    "    std_volume: float64\n",
    "\n",
    "    \n",
    "\n",
    "def new_pycnometer_measurement(\n",
    "        empty_mass: float64, full_mass: ndarray, water_density: float64\n",
    "    ) -> PycnometerMeasurment:\n",
    "        mass = empty_mass\n",
    "        water_mass = full_mass - empty_mass\n",
    "        water_volume = water_mass / water_density\n",
    "        volume = water_volume.mean()\n",
    "        std_volume = water_volume.std()\n",
    "        return PycnometerMeasurment(mass, volume, std_volume)\n",
    "\n",
    "pycnometer1 = new_pycnometer_measurement(\n",
    "    34.817, np.array([60.505, 60.514, 60.507, 60.508]), 0.9925\n",
    ")\n",
    "pycnometer2 = new_pycnometer_measurement(35.844, np.array([62.600, 62.586]), 0.9952)\n"
   ]
  },
  {
   "cell_type": "code",
   "execution_count": 3,
   "metadata": {},
   "outputs": [
    {
     "data": {
      "image/png": "[encoded data removed]",
      "text/plain": [
       "<Figure size 640x480 with 1 Axes>"
      ]
     },
     "metadata": {},
     "output_type": "display_data"
    }
   ],
   "source": [
    "concs = []\n",
    "for i in ethanol_measurments:\n",
    "    concs.append(i.concentration)\n",
    "    concs.append(i.concentration)\n",
    "    concs.append(i.concentration)\n",
    "concs = np.array(concs)\n",
    "\n",
    "densities = []\n",
    "for i in ethanol_measurments:\n",
    "    densities.append(i.density[0])\n",
    "    densities.append(i.density[1])\n",
    "    densities.append(i.density[2])\n",
    "densities = np.array(densities)\n",
    "\n",
    "slope, intercept, rvalue, _, stderr = scipy.stats.linregress(concs, densities)\n",
    "conc_range = np.linspace(0.0, 0.9, 1000)\n",
    "\n",
    "plt.plot(concs, densities, \"k.\")\n",
    "plt.plot(conc_range, slope * conc_range + intercept, \"r--\")\n",
    "plt.show()\n"
   ]
  },
  {
   "cell_type": "code",
   "execution_count": 4,
   "metadata": {},
   "outputs": [],
   "source": [
    "def find_nearest(data, value):\n",
    "    idx = (np.abs(data - value)).argmin()\n",
    "    return idx\n",
    "\n",
    "def true_proof(density, temperature):\n",
    "    #ρ2 = ρ1 (1 + α(T1 − 60◦F))\n",
    "    #α = 25 × 10−6/◦C \n",
    "    #(32°F − 32) × 5/9 = 0°C\n",
    "    \n",
    "    alpha = 25e-6\n",
    "    t1 = (temperature - 32) * (5/9)\n",
    "    p2 = density * (1 + alpha * (t1 - 60))\n",
    "    spg2 = p2 / 0.99904\n",
    "    c2 = np.interp(find_nearest(TABLE6[:, 4], spg2), TABLE6[:, 4], TABLE6[:, 0])\n",
    "    cr = np.floor(c2)\n",
    "    tr = np.floor(t1)\n",
    "\n"
   ]
  },
  {
   "cell_type": "code",
   "execution_count": 5,
   "metadata": {},
   "outputs": [],
   "source": [
    "true_proof(0.9925, 22)"
   ]
  },
  {
   "cell_type": "code",
   "execution_count": 6,
   "metadata": {},
   "outputs": [
    {
     "data": {
      "text/plain": [
       "array([[  0. ,   0. ,   0. , ...,   0. ,   0. ,   0. ],\n",
       "       [  1. ,   0. ,   0. , ...,   0. ,   0. ,   0. ],\n",
       "       [  2. ,   0. ,   0. , ...,   0. ,   0. ,   0. ],\n",
       "       ...,\n",
       "       [204. ,   0. ,   0. , ..., 197.4, 197.2, 196.9],\n",
       "       [205. ,   0. ,   0. , ..., 198.7, 198.5, 198.3],\n",
       "       [206. ,   0. ,   0. , ..., 200. , 199.8, 199.6]])"
      ]
     },
     "execution_count": 6,
     "metadata": {},
     "output_type": "execute_result"
    }
   ],
   "source": []
  },
  {
   "cell_type": "code",
   "execution_count": null,
   "metadata": {},
   "outputs": [],
   "source": []
  }
 ],
 "metadata": {
  "kernelspec": {
   "display_name": "py10",
   "language": "python",
   "name": "python3"
  },
  "language_info": {
   "codemirror_mode": {
    "name": "ipython",
    "version": 3
   },
   "file_extension": ".py",
   "mimetype": "text/x-python",
   "name": "python",
   "nbconvert_exporter": "python",
   "pygments_lexer": "ipython3",
   "version": "3.10.6"
  },
  "orig_nbformat": 4,
  "vscode": {
   "interpreter": {
    "hash": "19507501e6074859d39067d05698418baa9641c9ca2196c887457aaa6924805b"
   }
  }
 },
 "nbformat": 4,
 "nbformat_minor": 2
}
